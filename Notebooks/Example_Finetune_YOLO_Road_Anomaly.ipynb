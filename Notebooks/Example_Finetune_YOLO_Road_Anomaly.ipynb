{
  "nbformat": 4,
  "nbformat_minor": 0,
  "metadata": {
    "colab": {
      "provenance": [],
      "gpuType": "T4"
    },
    "kernelspec": {
      "name": "python3",
      "display_name": "Python 3"
    },
    "language_info": {
      "name": "python"
    },
    "accelerator": "GPU"
  },
  "cells": [
    {
      "cell_type": "code",
      "source": [
        "# State YOLO model name\n",
        "model_name = \"yolo11n\"\n",
        "model_name = \"yolov10n\"\n",
        "\n",
        "# State version of model trained\n",
        "# For eg if model based on yolo11n is already trained, it will be v1.\n",
        "# New model to be trained on yolo11n can be saved as v2.\n",
        "model_ver = \"1\""
      ],
      "metadata": {
        "id": "ceCxxvx2fvGZ"
      },
      "execution_count": null,
      "outputs": []
    },
    {
      "cell_type": "code",
      "execution_count": null,
      "metadata": {
        "id": "0HHMM2JF7LHj"
      },
      "outputs": [],
      "source": [
        "!pip install ultralytics==8.3.49"
      ]
    },
    {
      "cell_type": "code",
      "source": [
        "from google.colab import drive\n",
        "drive.mount('/content/drive')"
      ],
      "metadata": {
        "id": "PX95WtebVLXr"
      },
      "execution_count": null,
      "outputs": []
    },
    {
      "cell_type": "code",
      "source": [
        "!pip install gdown\n",
        "!gdown https://drive.google.com/uc?id=1YuBwiSUw7kW8PIqU6Ii8WfuvHlgabqMe"
      ],
      "metadata": {
        "id": "Lq97krCt7s5M"
      },
      "execution_count": null,
      "outputs": []
    },
    {
      "cell_type": "code",
      "source": [
        "!unzip /content/imageDataset.zip"
      ],
      "metadata": {
        "id": "PeCJSRyR736C"
      },
      "execution_count": null,
      "outputs": []
    },
    {
      "cell_type": "code",
      "source": [
        "# To create folder in drive\n",
        "%mkdir -p /content/drive/MyDrive/Shared/{model_name}_{model_ver}\n",
        "\n",
        "# To move into the folder\n",
        "%cd /content/drive/MyDrive/Shared/{model_name}_{model_ver}\n",
        "\n",
        "from ultralytics import YOLO\n",
        "\n",
        "# To start training from scratch\n",
        "model = YOLO(f\"{model_name}.pt\")\n",
        "results = model.train(data=\"/content/imageDataset/data.yaml\", epochs=100, imgsz=640, patience=10, device=0, save_period=5)\n",
        "\n",
        "# To resume training\n",
        "# model = YOLO(f\"/content/drive/MyDrive/Shared/{model_name}_{model_ver}/runs/detect/train/weights/last.pt\")\n",
        "# results = model.train(data=\"/content/imageDataset/data.yaml\", epochs=100, imgsz=640, patience=10, device=0, save_period=5, resume=True)"
      ],
      "metadata": {
        "id": "EopDP4Wh79P8"
      },
      "execution_count": null,
      "outputs": []
    },
    {
      "cell_type": "code",
      "source": [
        "from ultralytics import YOLO\n",
        "\n",
        "model = YOLO(f\"/content/drive/MyDrive/Shared/{model_name}_{model_ver}/runs/detect/train/weights/best.pt\")\n",
        "metrics = model.val(data=\"/content/imageDataset/data.yaml\",split='test')\n",
        "print(metrics.box.map)  # mAP50-95\n",
        "print(metrics.box.map50)  # mAP50\n",
        "print(metrics.box.map75)  # mAP75\n",
        "print(metrics.box.maps)  # list of mAP50-95 for each category\n"
      ],
      "metadata": {
        "id": "UF4gVaWAUQIU"
      },
      "execution_count": null,
      "outputs": []
    },
    {
      "cell_type": "code",
      "source": [
        "# To disconnect colab immediately after training\n",
        "from google.colab import runtime\n",
        "runtime.unassign()"
      ],
      "metadata": {
        "id": "4Eo6wofLYk7S"
      },
      "execution_count": null,
      "outputs": []
    }
  ]
}