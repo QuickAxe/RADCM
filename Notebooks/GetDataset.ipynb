{
 "cells": [
  {
   "cell_type": "markdown",
   "metadata": {},
   "source": [
    "# A notebook to download all required datasets from drive, to reduce repo size while cloning."
   ]
  },
  {
   "cell_type": "code",
   "execution_count": 1,
   "metadata": {},
   "outputs": [],
   "source": [
    "import gdown\n",
    "import zipfile\n",
    "import os\n",
    "urlList = []"
   ]
  },
  {
   "cell_type": "code",
   "execution_count": null,
   "metadata": {},
   "outputs": [],
   "source": [
    "\n",
    "# Image Dataset\n",
    "urlList.append('https://drive.google.com/uc?id=1YuBwiSUw7kW8PIqU6Ii8WfuvHlgabqMe')"
   ]
  },
  {
   "cell_type": "code",
   "execution_count": 2,
   "metadata": {},
   "outputs": [],
   "source": [
    "# Sensor dataset\n",
    "urlList.append('https://drive.google.com/uc?id=1QsBHkJLBloVuopeHvHZM7N108iAWy_08')"
   ]
  },
  {
   "cell_type": "code",
   "execution_count": 3,
   "metadata": {},
   "outputs": [
    {
     "name": "stderr",
     "output_type": "stream",
     "text": [
      "Downloading...\n",
      "From: https://drive.google.com/uc?id=1Ah-YRIJjHt9_fRvdkZa2onXWanQwhco0\n",
      "To: /Users/manselmartins/Documents/code/RADCM/Notebooks/temp.zip\n",
      "100%|██████████| 1.90M/1.90M [00:03<00:00, 523kB/s]\n"
     ]
    }
   ],
   "source": [
    "if urlList:\n",
    "\tfor url in urlList:\n",
    "\t\toutput = './temp.zip'\n",
    "\t\tgdown.download(url, output, quiet=False)\n",
    "\n",
    "\n",
    "\t\twith zipfile.ZipFile(\"temp.zip\", 'r') as zip_ref:\n",
    "\t\t\tzip_ref.extractall(\"./../Server/Datasets/\")\n",
    "\n",
    "\t\tos.remove(\"temp.zip\")\n",
    "\turlList.clear()\n"
   ]
  }
 ],
 "metadata": {
  "kernelspec": {
   "display_name": "myenv",
   "language": "python",
   "name": "python3"
  },
  "language_info": {
   "codemirror_mode": {
    "name": "ipython",
    "version": 3
   },
   "file_extension": ".py",
   "mimetype": "text/x-python",
   "name": "python",
   "nbconvert_exporter": "python",
   "pygments_lexer": "ipython3",
   "version": "3.11.5"
  }
 },
 "nbformat": 4,
 "nbformat_minor": 2
}
