{
 "cells": [
  {
   "cell_type": "markdown",
   "metadata": {},
   "source": [
    "# A notebook to download all required datasets from drive, to reduce repo size while cloning."
   ]
  },
  {
   "cell_type": "code",
   "execution_count": 4,
   "metadata": {},
   "outputs": [],
   "source": [
    "import gdown\n",
    "import zipfile\n",
    "import os\n",
    "\n",
    "url = 'https://drive.google.com/uc?id=153Zb5-3hwetF8UNlDzB3ciVKpBzzxH6s'\n",
    "output = './temp.zip'\n",
    "gdown.download(url, output, quiet=False)\n",
    "\n",
    "\n",
    "with zipfile.ZipFile(\"temp.zip\", 'r') as zip_ref:\n",
    "    zip_ref.extractall(\"./../Server/Datasets/\")\n",
    "\n",
    "os.remove(\"temp.zip\")\n"
   ]
  }
 ],
 "metadata": {
  "kernelspec": {
   "display_name": "venv",
   "language": "python",
   "name": "python3"
  },
  "language_info": {
   "codemirror_mode": {
    "name": "ipython",
    "version": 3
   },
   "file_extension": ".py",
   "mimetype": "text/x-python",
   "name": "python",
   "nbconvert_exporter": "python",
   "pygments_lexer": "ipython3",
   "version": "3.10.7"
  }
 },
 "nbformat": 4,
 "nbformat_minor": 2
}
