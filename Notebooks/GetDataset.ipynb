{
 "cells": [
  {
   "cell_type": "markdown",
   "metadata": {},
   "source": [
    "# A notebook to download all required datasets from drive, to reduce repo size while cloning."
   ]
  },
  {
   "cell_type": "code",
   "execution_count": 1,
   "metadata": {},
   "outputs": [],
   "source": [
    "import gdown\n",
    "import zipfile\n",
    "import os\n",
    "urlList = []"
   ]
  },
  {
   "cell_type": "code",
   "execution_count": null,
   "metadata": {},
   "outputs": [],
   "source": [
    "\n",
    "# Image Dataset\n",
    "urlList.append('https://drive.google.com/uc?id=1YuBwiSUw7kW8PIqU6Ii8WfuvHlgabqMe')"
   ]
  },
  {
   "cell_type": "code",
   "execution_count": 2,
   "metadata": {},
   "outputs": [],
   "source": [
    "# Non-augmented Sensor dataset\n",
    "urlList.append('https://drive.google.com/uc?id=1ffOf3zigUCTQXnOmIjw0BkI0tbAjS_jc')"
   ]
  },
  {
   "cell_type": "code",
   "execution_count": 13,
   "metadata": {},
   "outputs": [],
   "source": [
    "# Non-augmented Biclass Sensor dataset\n",
    "urlList.append('https://drive.google.com/uc?id=1_r7z7Tmbx4KUZUPIPtxx8G1NAIkSXKbA')"
   ]
  },
  {
   "cell_type": "code",
   "execution_count": null,
   "metadata": {},
   "outputs": [],
   "source": [
    "\n",
    "# Carlos Sensor Dataset\n",
    "urlList.append('https://drive.google.com/uc?id=1H-d-fw_iZe55rK7eDV-WNgvYEowhpLCF')"
   ]
  },
  {
   "cell_type": "code",
   "execution_count": 7,
   "metadata": {},
   "outputs": [],
   "source": [
    "# Augmented Sensor dataset\n",
    "urlList.append('https://drive.google.com/uc?id=1PpkET4V4RF0v5XIG_VnZHqRfaMDJzKy1')"
   ]
  },
  {
   "cell_type": "code",
   "execution_count": 3,
   "metadata": {},
   "outputs": [
    {
     "name": "stderr",
     "output_type": "stream",
     "text": [
      "Downloading...\n",
      "From: https://drive.google.com/uc?id=1ffOf3zigUCTQXnOmIjw0BkI0tbAjS_jc\n",
      "To: d:\\code\\RADCM\\Notebooks\\temp.zip\n",
      "100%|██████████| 4.05M/4.05M [00:00<00:00, 10.3MB/s]\n"
     ]
    }
   ],
   "source": [
    "if urlList:\n",
    "\tfor url in urlList:\n",
    "\t\toutput = './temp.zip'\n",
    "\t\tgdown.download(url, output, quiet=False)\n",
    "\n",
    "\n",
    "\t\twith zipfile.ZipFile(\"temp.zip\", 'r') as zip_ref:\n",
    "\t\t\tzip_ref.extractall(\"./../Server/Datasets/\")\n",
    "\n",
    "\t\tos.remove(\"temp.zip\")\n",
    "\turlList.clear()\n"
   ]
  }
 ],
 "metadata": {
  "kernelspec": {
   "display_name": "venv",
   "language": "python",
   "name": "python3"
  },
  "language_info": {
   "codemirror_mode": {
    "name": "ipython",
    "version": 3
   },
   "file_extension": ".py",
   "mimetype": "text/x-python",
   "name": "python",
   "nbconvert_exporter": "python",
   "pygments_lexer": "ipython3",
   "version": "3.13.1"
  }
 },
 "nbformat": 4,
 "nbformat_minor": 2
}
