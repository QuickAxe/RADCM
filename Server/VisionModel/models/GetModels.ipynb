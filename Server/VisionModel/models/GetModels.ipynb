{
 "cells": [
  {
   "cell_type": "markdown",
   "metadata": {},
   "source": [
    "# A notebook to download all required vision models from Google Drive."
   ]
  },
  {
   "cell_type": "code",
   "execution_count": 2,
   "metadata": {},
   "outputs": [],
   "source": [
    "import gdown\n",
    "urlList = []"
   ]
  },
  {
   "cell_type": "code",
   "execution_count": 3,
   "metadata": {},
   "outputs": [],
   "source": [
    "# YOLO11m CBAM model\n",
    "urlList.append('https://drive.google.com/uc?id=1-J9xUlVtriJMFGnbVAw5XpdI8x2EY5Jl')"
   ]
  },
  {
   "cell_type": "code",
   "execution_count": 4,
   "metadata": {},
   "outputs": [
    {
     "name": "stderr",
     "output_type": "stream",
     "text": [
      "Downloading...\n",
      "From (original): https://drive.google.com/uc?id=1-J9xUlVtriJMFGnbVAw5XpdI8x2EY5Jl\n",
      "From (redirected): https://drive.google.com/uc?id=1-J9xUlVtriJMFGnbVAw5XpdI8x2EY5Jl&confirm=t&uuid=0821f03e-5560-4123-a84c-1e7e7b0de03f\n",
      "To: c:\\Flutter\\projects\\0 RADCM\\RADCM\\Server\\VisionModel\\models\\yolo11m_cbam.pt\n",
      "100%|██████████| 84.2M/84.2M [00:06<00:00, 13.2MB/s]\n"
     ]
    }
   ],
   "source": [
    "if urlList:\n",
    "\tfor url in urlList:\n",
    "\t\tgdown.download(url, quiet=False)\n",
    "\n",
    "\turlList.clear()\n"
   ]
  }
 ],
 "metadata": {
  "kernelspec": {
   "display_name": "venv3",
   "language": "python",
   "name": "python3"
  },
  "language_info": {
   "codemirror_mode": {
    "name": "ipython",
    "version": 3
   },
   "file_extension": ".py",
   "mimetype": "text/x-python",
   "name": "python",
   "nbconvert_exporter": "python",
   "pygments_lexer": "ipython3",
   "version": "3.11.5"
  }
 },
 "nbformat": 4,
 "nbformat_minor": 2
}
